{
 "cells": [
  {
   "cell_type": "code",
   "execution_count": null,
   "id": "5a0feec9-40b5-4bad-8541-eb291707bd07",
   "metadata": {},
   "outputs": [],
   "source": [
    "import spacy"
   ]
  },
  {
   "cell_type": "code",
   "execution_count": null,
   "id": "e904992f-f51a-4043-bd8e-57308143f4c1",
   "metadata": {},
   "outputs": [],
   "source": [
    "nlp = spacy.load(\"ru_core_news_lg\")"
   ]
  },
  {
   "cell_type": "code",
   "execution_count": null,
   "id": "dcbb3550-0607-4d9e-b5ab-a66593d64e0a",
   "metadata": {},
   "outputs": [],
   "source": [
    "text = '''Машина едет быстро по дороге'''"
   ]
  },
  {
   "cell_type": "code",
   "execution_count": null,
   "id": "d478a24b-4011-43cc-97bd-e3c666689d5b",
   "metadata": {},
   "outputs": [],
   "source": [
    "# Обработаем текст\n",
    "doc_text = nlp(text)\n",
    "print(doc_text)"
   ]
  },
  {
   "cell_type": "code",
   "execution_count": null,
   "id": "951724f1-f10a-4d4b-8722-6482d2d588c7",
   "metadata": {},
   "outputs": [],
   "source": [
    "# Вектор предложения\n",
    "vec_text = doc_text.vector\n",
    "print(vec_text)"
   ]
  },
  {
   "cell_type": "code",
   "execution_count": null,
   "id": "d7044c0a-fc16-4a42-af38-7cb2659d9ddd",
   "metadata": {},
   "outputs": [],
   "source": [
    "#Разбиение на слова предложение\n",
    "words = text.split()\n",
    "print(words)"
   ]
  },
  {
   "cell_type": "code",
   "execution_count": null,
   "id": "ec6a2f96-15a3-4057-bdaf-82638c8c406c",
   "metadata": {},
   "outputs": [],
   "source": [
    "import random"
   ]
  },
  {
   "cell_type": "code",
   "execution_count": null,
   "id": "a38bc269-7bec-4436-9ac3-7c9c270bc44e",
   "metadata": {},
   "outputs": [],
   "source": [
    "def generate_random_permutations(words, num_permutations):\n",
    "    permutations = []\n",
    "    for _ in range(num_permutations):\n",
    "        shuffled_words = words[:]\n",
    "        random.shuffle(shuffled_words)\n",
    "        permutations.append(' '.join(shuffled_words))\n",
    "    return permutations\n",
    "\n",
    "num_permutations = 5\n",
    "permuted_sentences = generate_random_permutations(words, num_permutations)\n",
    "print(permuted_sentences[0])\n",
    "print(permuted_sentences[1])\n",
    "print(permuted_sentences[2])\n",
    "print(permuted_sentences[3])\n",
    "print(permuted_sentences[4])\n",
    "print(permuted_sentences)"
   ]
  },
  {
   "cell_type": "code",
   "execution_count": null,
   "id": "aa0b5fce-bf45-4ec0-8872-a8ab5fa8b734",
   "metadata": {},
   "outputs": [],
   "source": [
    "# Обработаем текст [0]\n",
    "doc_permuted_sentences_0 = nlp(permuted_sentences[0])\n",
    "print(doc_permuted_sentences_0)\n",
    "\n",
    "#Отобразим векторы для текста [0] \n",
    "vec_permuted_sentences_0 = doc_permuted_sentences_0.vector\n",
    "print(vec_permuted_sentences_0)"
   ]
  },
  {
   "cell_type": "code",
   "execution_count": null,
   "id": "d5692fe3-4f39-4c5f-b599-c4a0206c3e33",
   "metadata": {},
   "outputs": [],
   "source": [
    "# Обработаем текста [1]\n",
    "doc_permuted_sentences_1 = nlp(permuted_sentences[1])\n",
    "print(doc_permuted_sentences_1)\n",
    "\n",
    "#Отобразим векторы для текста [1] \n",
    "vec_permuted_sentences_1 = doc_permuted_sentences_1.vector\n",
    "print(vec_permuted_sentences_1)"
   ]
  },
  {
   "cell_type": "code",
   "execution_count": null,
   "id": "6ffea302-0044-45e3-8bba-2724fc501e1e",
   "metadata": {},
   "outputs": [],
   "source": [
    "# Обработаем текста [2]\n",
    "doc_permuted_sentences_2 = nlp(permuted_sentences[2])\n",
    "print(doc_permuted_sentences_2)\n",
    "\n",
    "#Отобразим векторы для текста [2] \n",
    "vec_permuted_sentences_2 = doc_permuted_sentences_2.vector\n",
    "print(vec_permuted_sentences_2)"
   ]
  },
  {
   "cell_type": "code",
   "execution_count": null,
   "id": "bffe64ec-eac1-48dd-8514-599a572f9c1c",
   "metadata": {},
   "outputs": [],
   "source": [
    "# Обработаем текста [3]\n",
    "doc_permuted_sentences_3 = nlp(permuted_sentences[3])\n",
    "print(doc_permuted_sentences_3)\n",
    "\n",
    "#Отобразим векторы для текста [3] \n",
    "vec_permuted_sentences_3 = doc_permuted_sentences_3.vector\n",
    "print(vec_permuted_sentences_3)"
   ]
  },
  {
   "cell_type": "code",
   "execution_count": null,
   "id": "1db229e4-7606-41e0-95f0-19f8d338b109",
   "metadata": {},
   "outputs": [],
   "source": [
    "# Обработаем текста [4]\n",
    "doc_permuted_sentences_4 = nlp(permuted_sentences[4])\n",
    "print(doc_permuted_sentences_4)\n",
    "\n",
    "#Отобразим векторы для текста [4] \n",
    "vec_permuted_sentences_4 = doc_permuted_sentences_4.vector\n",
    "print(vec_permuted_sentences_4)"
   ]
  },
  {
   "cell_type": "code",
   "execution_count": null,
   "id": "94ea5f27-4d92-4704-804e-3ef18d644603",
   "metadata": {},
   "outputs": [],
   "source": [
    "# Добавим мою анкету text_Iljnur\n",
    "text_Iljnur = '''мотивация\n",
    "Риск «перегорания» мотивации\n",
    "Вы очень серьёзно относитесь к результатам учёбы. На первый взгляд, звучит хорошо, но не всё так просто.\n",
    "Избыточная мотивация говорит о том, что вы ожидаете от учёбы слишком многого. Например, убеждены, что от учёбы на 100% зависит жизненный успех. Или хотите впечатлить результатами важного для вас человека.\n",
    "Еще люди со сверхвысокой мотивацией могут сильно бояться ошибок. Поэтому им страшно начинать новое обучение или приступать к сложным заданиям.\n",
    "\n",
    "Что делать?\n",
    "Учёба — это здорово, но, бывает, она занимает слишком большое место в жизни. Если это про вас, попробуйте отвлечься и переключить внимание. А заодно проверить, всё ли в порядке в работе, отношениях с друзьями и других сферах жизни.\n",
    "\n",
    "умение учиться\n",
    "Ваша способность учиться на базовом уровне\n",
    "Скорее всего, вы хорошо организуете учебный процесс, можете вписать занятия в график и обеспечить себе подходящую среду.\n",
    "\n",
    "Это отлично, но в стрессовых ситуациях эти навыки могут выключаться. Например, когда вы ошибаетесь по невнимательности и получаете плохую для себя оценку. Вследствие таких неудач даже может появиться желание бросить учёбу.\n",
    "\n",
    "Что делать?\n",
    "Ошибки в учёбе — это нормально. Они, как подсказки в компьютерной игре, помогают не заблудиться на пути к цели. Не требуйте от себя невозможного и не ругайте за неудачи. А главное — продолжайте развивать навыки, которые помогают учиться.\n",
    "\n",
    "cамооценка\n",
    "Не получилось определить результат\n",
    "Любой тест работает с воспоминаниями, а они могут искажаться под воздействием стресса и других эмоций. Возможно, вы выбирали варианты ответа, которые не вполне отражают то, как вы обычно поступаете в действительности.\n",
    "\n",
    "Что делать?\n",
    "Если так вышло только с одним блоком теста, сфокусируйтесь на тех, где получилось определить результат. А затем попробуйте пройти тест заново.'''"
   ]
  },
  {
   "cell_type": "code",
   "execution_count": null,
   "id": "06652f12-70cc-45fa-9347-5ceaf738cdf8",
   "metadata": {},
   "outputs": [],
   "source": [
    "doc_text_Iljnur = nlp(text_Iljnur)\n",
    "print(doc_text_Iljnur)"
   ]
  },
  {
   "cell_type": "code",
   "execution_count": null,
   "id": "12a48b53-7794-4ea0-a630-b3943355be94",
   "metadata": {},
   "outputs": [],
   "source": [
    "# Вычислим меру сходства между исходным документом и новым документом [0]\n",
    "# print(doc_text.similarity(doc_permuted_sentences_0))\n",
    "print(doc_text_Iljnur.similarity(doc_permuted_sentences_0))"
   ]
  },
  {
   "cell_type": "code",
   "execution_count": null,
   "id": "41fc987d-93d2-47ce-8f5d-34fd2c9fea78",
   "metadata": {},
   "outputs": [],
   "source": [
    "# Вычислим меру сходства между исходным документом и новым документом [1]\n",
    "#print(doc_text.similarity(doc_permuted_sentences_1))\n",
    "print(doc_text_Iljnur.similarity(doc_permuted_sentences_1))"
   ]
  },
  {
   "cell_type": "code",
   "execution_count": null,
   "id": "7ed1e619-7850-413f-9ce3-61397d3383e3",
   "metadata": {},
   "outputs": [],
   "source": [
    "# Вычислим меру сходства между исходным документом и новым документом [2]\n",
    "#print(doc_text.similarity(doc_permuted_sentences_2))\n",
    "print(doc_text_Iljnur.similarity(doc_permuted_sentences_2))"
   ]
  },
  {
   "cell_type": "code",
   "execution_count": null,
   "id": "03b20e67-e2ef-414a-8053-7deb5595bc25",
   "metadata": {},
   "outputs": [],
   "source": [
    "# Вычислим меру сходства между исходным документом и новым документом [3]\n",
    "#print(doc_text.similarity(doc_permuted_sentences_3))\n",
    "print(doc_text_Iljnur.similarity(doc_permuted_sentences_3))"
   ]
  },
  {
   "cell_type": "code",
   "execution_count": null,
   "id": "97d98309-d1bb-437a-b56e-e05d39c70fbe",
   "metadata": {},
   "outputs": [],
   "source": [
    "# Вычислим меру сходства между исходным документом и новым документом [4]\n",
    "#print(doc_text.similarity(doc_permuted_sentences_4))\n",
    "print(doc_text_Iljnur.similarity(doc_permuted_sentences_4))"
   ]
  },
  {
   "cell_type": "code",
   "execution_count": null,
   "id": "2424b5e0-f171-403c-9d35-97b2cfdcd737",
   "metadata": {},
   "outputs": [],
   "source": [
    "# Вычислим меру сходства между исходным документом и новым документом [4]\n",
    "print(doc_text.similarity(doc_text))"
   ]
  },
  {
   "cell_type": "code",
   "execution_count": null,
   "id": "2b739327-2311-49f7-960b-6f5fc2fea1d7",
   "metadata": {},
   "outputs": [],
   "source": [
    "# функция принимает путь к файлу (path) и открывает файл в режиме чтения ('r'), используя кодировку UTF-8\n",
    "def read_file(path):\n",
    "    with open(path, 'r', encoding='utf-8') as file:\n",
    "        return file.read()\n",
    "        \n",
    "file_path_50_00_2020 = read_file('C:\\\\Управление_неструктурированной_информацией\\\\50_00_2020.txt')\n",
    "print(file_path_50_00_2020)"
   ]
  },
  {
   "cell_type": "code",
   "execution_count": null,
   "id": "356494ef-ceea-40a4-b83b-652ea832d33b",
   "metadata": {},
   "outputs": [],
   "source": [
    "doc_file_path_50_00_2020 = nlp(file_path_50_00_2020)\n",
    "print(doc_file_path_50_00_2020)"
   ]
  },
  {
   "cell_type": "code",
   "execution_count": null,
   "id": "d15c7252-42c9-4ac4-b518-5fc3f489d0bb",
   "metadata": {},
   "outputs": [],
   "source": [
    "print(\"Задача №1 для большой модели (ru_core_news_lg) \\nРезультаты:\")\n",
    "print(f\"Исходное предложение: {text}\")\n",
    "print(f\"Измененное предложение 1: {permuted_sentences[0]}\")\n",
    "print(f\"Измененное предложение 2: {permuted_sentences[1]}\")\n",
    "print(f\"Измененное предложение 3: {permuted_sentences[2]}\")\n",
    "print(f\"Измененное предложение 4: {permuted_sentences[3]}\")\n",
    "print(f\"Измененное предложение 5: {permuted_sentences[4]}\")\n",
    "print(\"\\nРезультаты:\")\n",
    "print(f\"Мера сходства между исходным предложением и изм. предложением 1: {doc_text.similarity(doc_permuted_sentences_0)}\")\n",
    "print(f\"Мера сходства между исходным предложением и изм. предложением 2: {doc_text.similarity(doc_permuted_sentences_1)}\")\n",
    "print(f\"Мера сходства между исходным предложением и изм. предложением 3: {doc_text.similarity(doc_permuted_sentences_2)}\")\n",
    "print(f\"Мера сходства между исходным предложением и изм. предложением 4: {doc_text.similarity(doc_permuted_sentences_3)}\")\n",
    "print(f\"Мера сходства между исходным предложением и изм. предложением 5: {doc_text.similarity(doc_permuted_sentences_4)}\")\n",
    "print(\"\\nРезультаты:\")\n",
    "print(f\"Мера сходства между анкетой doc_Iljnur и Исходным предложением: {doc_text_Iljnur.similarity(doc_text)}\")\n",
    "print(f\"Мера сходства между анкетой doc_Iljnur и изм. предложением 1: {doc_text_Iljnur.similarity(doc_permuted_sentences_0)}\")\n",
    "print(f\"Мера сходства между анкетой doc_Iljnur и изм. предложением 2: {doc_text_Iljnur.similarity(doc_permuted_sentences_1)}\")\n",
    "print(f\"Мера сходства между анкетой doc_Iljnur и изм. предложением 3: {doc_text_Iljnur.similarity(doc_permuted_sentences_2)}\")\n",
    "print(f\"Мера сходства между анкетой doc_Iljnur и изм. предложением 4: {doc_text_Iljnur.similarity(doc_permuted_sentences_3)}\")\n",
    "print(f\"Мера сходства между анкетой doc_Iljnur и изм. предложением 5: {doc_text_Iljnur.similarity(doc_permuted_sentences_4)}\")\n",
    "print(\"\\nРезультаты:\")\n",
    "print(f\"Мера сходства между документом doc_file_path_50_00_2020 и Исходным предложением: {doc_file_path_50_00_2020.similarity(doc_text)}\")\n",
    "print(f\"Мера сходства между документом doc_file_path_50_00_2020 и изм. предложением 1: {doc_file_path_50_00_2020.similarity(doc_permuted_sentences_0)}\")\n",
    "print(f\"Мера сходства между документом doc_file_path_50_00_2020 и изм. предложением 2: {doc_file_path_50_00_2020.similarity(doc_permuted_sentences_1)}\")\n",
    "print(f\"Мера сходства между документом doc_file_path_50_00_2020 и изм. предложением 3: {doc_file_path_50_00_2020.similarity(doc_permuted_sentences_2)}\")\n",
    "print(f\"Мера сходства между документом doc_file_path_50_00_2020 и изм. предложением 4: {doc_file_path_50_00_2020.similarity(doc_permuted_sentences_3)}\")\n",
    "print(f\"Мера сходства между документом doc_file_path_50_00_2020 и изм. предложением 5: {doc_file_path_50_00_2020.similarity(doc_permuted_sentences_4)}\")"
   ]
  },
  {
   "cell_type": "code",
   "execution_count": null,
   "id": "10152ea6-210c-4e7f-b472-27d74d498783",
   "metadata": {},
   "outputs": [],
   "source": [
    "vocab_size = len(nlp.vocab)\n",
    "print(vocab_size)"
   ]
  }
 ],
 "metadata": {
  "kernelspec": {
   "display_name": "Ilnur",
   "language": "python",
   "name": "usmanov-il"
  },
  "language_info": {
   "codemirror_mode": {
    "name": "ipython",
    "version": 3
   },
   "file_extension": ".py",
   "mimetype": "text/x-python",
   "name": "python",
   "nbconvert_exporter": "python",
   "pygments_lexer": "ipython3",
   "version": "3.9.7"
  }
 },
 "nbformat": 4,
 "nbformat_minor": 5
}
