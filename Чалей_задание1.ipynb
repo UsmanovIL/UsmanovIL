{
 "cells": [
  {
   "cell_type": "code",
   "execution_count": 21,
   "id": "4d315e1e-394c-42c3-a802-63db53b24981",
   "metadata": {
    "tags": []
   },
   "outputs": [],
   "source": [
    "import spacy"
   ]
  },
  {
   "cell_type": "code",
   "execution_count": 22,
   "id": "24e7e928-ee27-4750-b802-458a459e706f",
   "metadata": {
    "tags": []
   },
   "outputs": [],
   "source": [
    "# Загружаем модель русского языка\n",
    "nlp = spacy.load(\"ru_core_news_md\")"
   ]
  },
  {
   "cell_type": "code",
   "execution_count": 23,
   "id": "d73d80f7-d821-4322-8de9-898edef1a5ca",
   "metadata": {
    "tags": []
   },
   "outputs": [],
   "source": [
    "text = '''Машина едет быстро по дороге'''"
   ]
  },
  {
   "cell_type": "code",
   "execution_count": 24,
   "id": "47aaa15d-81cd-4ad7-a166-399b7ef540cf",
   "metadata": {
    "tags": []
   },
   "outputs": [
    {
     "name": "stdout",
     "output_type": "stream",
     "text": [
      "Машина едет быстро по дороге\n"
     ]
    }
   ],
   "source": [
    "# Обработаем текст\n",
    "doc_text = nlp(text)\n",
    "print(doc_text)"
   ]
  },
  {
   "cell_type": "code",
   "execution_count": 25,
   "id": "53bba1a3-eb0f-45fb-b7df-31b17f4511a7",
   "metadata": {
    "tags": []
   },
   "outputs": [
    {
     "name": "stdout",
     "output_type": "stream",
     "text": [
      "Токен: Машина     Лемма: машина          Часть речи: NOUN\n",
      "Токен: едет       Лемма: ехать           Часть речи: VERB\n",
      "Токен: быстро     Лемма: быстро          Часть речи: ADV\n",
      "Токен: по         Лемма: по              Часть речи: ADP\n",
      "Токен: дороге     Лемма: дорога          Часть речи: NOUN\n"
     ]
    }
   ],
   "source": [
    "# Проходим по каждому токену и выводим информацию о нем\n",
    "for token in doc_text:\n",
    "    print(f\"Токен: {token.text:<10} Лемма: {token.lemma_:<15} Часть речи: {token.pos_}\")"
   ]
  },
  {
   "cell_type": "code",
   "execution_count": 26,
   "id": "d4d95d2b-338b-4005-9733-625b748f6f38",
   "metadata": {
    "collapsed": true,
    "jupyter": {
     "outputs_hidden": true
    },
    "tags": []
   },
   "outputs": [
    {
     "name": "stdout",
     "output_type": "stream",
     "text": [
      "[ 1.41609222e-01 -3.90866280e-01 -5.55081386e-03 -7.10799620e-02\n",
      " -1.19196534e-01 -3.95384640e-01  2.46902779e-01 -4.27554827e-03\n",
      "  1.50361985e-01  8.98825377e-02  6.54479396e-03  8.72847885e-02\n",
      "  3.94292511e-02 -1.72523931e-01 -1.63856223e-01  2.87477821e-01\n",
      " -6.15802109e-02  6.86762929e-02 -1.07744060e-01 -8.43742117e-02\n",
      " -3.09494168e-01 -4.16764647e-01 -1.67695716e-01  3.45131792e-02\n",
      "  3.15969102e-02  2.47568801e-01 -2.57574972e-02  1.92814022e-01\n",
      " -2.12402850e-01 -3.84366103e-02 -1.37816016e-02 -2.09228665e-01\n",
      "  3.96506041e-01  4.43962753e-01 -9.79498625e-02  1.72489360e-01\n",
      "  1.19750500e-01  3.27276215e-02  1.20254017e-01 -1.89654753e-01\n",
      " -1.13459583e-02 -6.54676557e-02  2.30957791e-01 -2.48731852e-01\n",
      " -8.98172557e-02  2.55481511e-01 -2.41651148e-01 -1.62566185e-01\n",
      " -1.45627588e-01 -2.22659424e-01 -1.83747951e-02 -1.29795790e-01\n",
      "  9.04647540e-03  3.84982914e-01  1.97965592e-01  6.47244006e-02\n",
      " -9.23996121e-02 -1.03213705e-01  2.80735135e-01  9.48822200e-02\n",
      " -1.51229501e-01 -2.65245765e-01 -7.01611955e-03 -1.06179439e-01\n",
      " -1.43279940e-01  1.37709185e-01  1.23378836e-01  2.84351051e-01\n",
      "  2.91978661e-02 -2.37185672e-01 -3.22682336e-02  4.42534275e-02\n",
      "  3.05596858e-01  1.55934095e-01 -1.91229731e-01 -1.22170568e-01\n",
      "  2.48292893e-01 -1.53895438e-01  2.09770679e-01 -7.00298995e-02\n",
      " -4.37643416e-02 -2.08725687e-02 -1.42057449e-01 -6.80491999e-02\n",
      "  8.28686077e-03  2.28277132e-01 -5.41829228e-01 -1.42109767e-01\n",
      " -5.06401770e-02  3.42260659e-01  2.98146993e-01 -1.06984772e-01\n",
      " -2.21678734e-01 -1.26719162e-01 -6.78979903e-02 -2.39072777e-02\n",
      " -2.57746160e-01  1.54551148e-01 -1.97626352e-01 -1.51887555e-02\n",
      " -2.31023636e-02  7.56123811e-02 -2.22442709e-02  1.26572130e-02\n",
      " -8.11325088e-02  2.41869181e-01 -2.40269393e-01 -1.26023889e-01\n",
      " -1.82761699e-01 -2.66132057e-01 -4.11048643e-02  1.63359612e-01\n",
      " -7.71047324e-02 -4.82741520e-02 -5.08308932e-02 -3.55493091e-02\n",
      " -3.37815173e-02 -7.10171983e-02 -1.90322306e-02 -1.71062991e-01\n",
      "  2.04132386e-02  4.31405269e-02  3.34501527e-02 -1.89957380e-01\n",
      "  8.66344944e-02 -3.05785358e-01 -1.32863000e-01 -2.53167957e-01\n",
      " -3.00054103e-01 -2.46380381e-02  5.51277101e-02 -8.71641934e-03\n",
      " -7.36170560e-02 -2.24420160e-01  4.99078780e-02  6.67622909e-02\n",
      "  3.98422867e-01  1.57549590e-01 -1.10001145e-02 -6.27963468e-02\n",
      "  1.08083330e-01  3.28754559e-02 -7.52232969e-03 -2.35061213e-01\n",
      "  6.91754511e-03 -2.36860082e-01 -5.15926480e-02  1.45152807e-01\n",
      "  3.60035859e-02  1.07287660e-01  1.19132638e-01 -1.75753683e-01\n",
      "  1.44787744e-01 -1.95014179e-01 -2.10144475e-01 -3.51435579e-02\n",
      "  2.65703499e-02 -1.15482761e-02  9.47300568e-02 -1.63508859e-02\n",
      "  1.30258217e-01 -5.85513487e-02 -9.28046331e-02  2.43155435e-01\n",
      " -2.07373494e-04 -5.91894845e-03  1.60545975e-01  3.36040467e-01\n",
      "  5.21854647e-02  1.01467147e-01  1.18537985e-01  8.45164210e-02\n",
      "  1.49646357e-01  1.78514272e-01  1.48782223e-01 -3.11833266e-02\n",
      "  4.66835126e-02  7.41290003e-02  1.19561456e-01 -1.39352977e-01\n",
      " -3.96587789e-01 -2.54310779e-02 -2.47267202e-01 -7.28515685e-02\n",
      " -6.85144812e-02  1.67054176e-01 -1.07370354e-01  2.60064844e-02\n",
      "  8.38876590e-02  3.45096916e-01 -4.47554439e-01 -6.10561371e-02\n",
      " -5.37415929e-02 -1.74684271e-01  8.68316144e-02 -2.49615476e-01\n",
      "  5.16563356e-02  2.34754413e-01  7.79039711e-02  3.56392831e-01\n",
      "  7.25742951e-02 -1.18931174e-01 -2.47941166e-01  3.01274747e-01\n",
      "  1.26397133e-01 -1.21552143e-02  6.80304617e-02  2.40482837e-01\n",
      " -2.57520288e-01 -7.50246644e-02 -9.51452851e-02  3.00224662e-01\n",
      " -1.26839325e-01  4.81059868e-03 -9.83727574e-02  1.15026772e-01\n",
      "  3.48603904e-01  1.96984202e-01 -5.89843802e-02  9.29237753e-02\n",
      "  2.10816428e-01 -1.35530636e-01 -1.70986488e-01 -7.20111132e-02\n",
      "  3.01539097e-02 -7.33549744e-02 -1.79454893e-01 -2.35296801e-01\n",
      "  9.74496454e-02 -5.51934466e-02  1.97958782e-01 -3.06212902e-01\n",
      "  8.37548003e-02  2.91007340e-01 -1.51137546e-01  1.48370937e-01\n",
      "  5.29707745e-02  9.99800563e-02 -3.27037752e-01  1.05532505e-01\n",
      " -1.20394588e-01 -2.76006274e-02 -2.38739967e-01  7.27511048e-02\n",
      "  2.39130929e-01 -2.87629008e-01  1.97369382e-01 -9.94340796e-03\n",
      "  8.88902172e-02 -3.91488820e-02 -4.47651409e-02  1.05844341e-01\n",
      " -2.18225405e-01  1.17100500e-01  1.16465375e-01  2.05235720e-01\n",
      "  7.98683986e-02 -1.67271271e-01  1.34035856e-01  4.26893421e-02\n",
      "  4.28642221e-02 -2.27139682e-01 -2.96946228e-01  4.28836718e-02\n",
      " -6.55293614e-02 -1.13364540e-01  8.68774056e-02 -3.88582379e-01\n",
      "  3.79282376e-03  2.77714610e-01 -9.68584046e-02  2.90734112e-01\n",
      " -1.50214089e-02  7.53664151e-02 -3.30431640e-01  8.64386335e-02\n",
      " -1.01662777e-01  1.15603045e-01  1.69398665e-01  7.83532411e-02\n",
      " -5.21935448e-02  6.83624744e-02 -1.26115512e-02 -2.26808600e-02\n",
      "  1.51507810e-01 -1.10892817e-01 -1.12649105e-01 -7.01117504e-04\n",
      " -2.56281286e-01  1.31588697e-01 -6.41460046e-02  8.71103480e-02\n",
      " -8.33822638e-02  2.48453259e-01  2.16581225e-01 -1.03095593e-02\n",
      " -3.16002548e-01 -1.94898114e-01  9.27115418e-03  6.32913113e-02]\n"
     ]
    }
   ],
   "source": [
    "# Вектор предложения\n",
    "vec_text = doc_text.vector\n",
    "print(vec_text)"
   ]
  },
  {
   "cell_type": "code",
   "execution_count": 27,
   "id": "455dd0e5-f9fb-4180-a9f2-8992708146fa",
   "metadata": {
    "tags": []
   },
   "outputs": [
    {
     "name": "stdout",
     "output_type": "stream",
     "text": [
      "['Машина', 'едет', 'быстро', 'по', 'дороге']\n"
     ]
    }
   ],
   "source": [
    "#Разбиение на слова предложение\n",
    "words = text.split()\n",
    "print(words)"
   ]
  },
  {
   "cell_type": "code",
   "execution_count": null,
   "id": "0fbcb41c-b168-499d-ba4b-3bc0f59cc9bb",
   "metadata": {},
   "outputs": [],
   "source": []
  },
  {
   "cell_type": "code",
   "execution_count": 28,
   "id": "3b10694f-a04f-42ae-9d9f-e81dc7c06f22",
   "metadata": {
    "tags": []
   },
   "outputs": [],
   "source": [
    "import random\n",
    "\n"
   ]
  },
  {
   "cell_type": "code",
   "execution_count": 43,
   "id": "aa53b17b-2a52-45b1-a78e-d9a8804e7c94",
   "metadata": {
    "tags": []
   },
   "outputs": [
    {
     "name": "stdout",
     "output_type": "stream",
     "text": [
      "дороге едет по Машина быстро\n",
      "по едет дороге Машина быстро\n",
      "Машина быстро по дороге едет\n",
      "быстро по дороге Машина едет\n",
      "дороге по быстро едет Машина\n",
      "['дороге едет по Машина быстро', 'по едет дороге Машина быстро', 'Машина быстро по дороге едет', 'быстро по дороге Машина едет', 'дороге по быстро едет Машина']\n"
     ]
    }
   ],
   "source": [
    "def generate_random_permutations(words, num_permutations):\n",
    "    permutations = []\n",
    "    for _ in range(num_permutations):\n",
    "        shuffled_words = words[:]\n",
    "        random.shuffle(shuffled_words)\n",
    "        permutations.append(' '.join(shuffled_words))\n",
    "    return permutations\n",
    "\n",
    "num_permutations = 5\n",
    "permuted_sentences = generate_random_permutations(words, num_permutations)\n",
    "print(permuted_sentences[0])\n",
    "print(permuted_sentences[1])\n",
    "print(permuted_sentences[2])\n",
    "print(permuted_sentences[3])\n",
    "print(permuted_sentences[4])\n",
    "print(permuted_sentences)"
   ]
  },
  {
   "cell_type": "code",
   "execution_count": 48,
   "id": "f0828bb0-45db-48f5-9626-03435bb54935",
   "metadata": {
    "collapsed": true,
    "jupyter": {
     "outputs_hidden": true
    },
    "tags": []
   },
   "outputs": [
    {
     "name": "stdout",
     "output_type": "stream",
     "text": [
      "дороге едет по Машина быстро\n",
      "[ 1.41609237e-01 -3.90866280e-01 -5.55081386e-03 -7.10799545e-02\n",
      " -1.19196534e-01 -3.95384610e-01  2.46902779e-01 -4.27554827e-03\n",
      "  1.50361985e-01  8.98825377e-02  6.54479256e-03  8.72847885e-02\n",
      "  3.94292474e-02 -1.72523931e-01 -1.63856223e-01  2.87477821e-01\n",
      " -6.15802109e-02  6.86762929e-02 -1.07744060e-01 -8.43742117e-02\n",
      " -3.09494138e-01 -4.16764677e-01 -1.67695716e-01  3.45131792e-02\n",
      "  3.15969139e-02  2.47568801e-01 -2.57574972e-02  1.92814022e-01\n",
      " -2.12402850e-01 -3.84366103e-02 -1.37816016e-02 -2.09228635e-01\n",
      "  3.96506011e-01  4.43962812e-01 -9.79498625e-02  1.72489375e-01\n",
      "  1.19750485e-01  3.27276215e-02  1.20254025e-01 -1.89654768e-01\n",
      " -1.13459583e-02 -6.54676557e-02  2.30957791e-01 -2.48731852e-01\n",
      " -8.98172557e-02  2.55481482e-01 -2.41651148e-01 -1.62566185e-01\n",
      " -1.45627588e-01 -2.22659424e-01 -1.83747970e-02 -1.29795790e-01\n",
      "  9.04647727e-03  3.84982914e-01  1.97965577e-01  6.47244006e-02\n",
      " -9.23996121e-02 -1.03213705e-01  2.80735135e-01  9.48822200e-02\n",
      " -1.51229486e-01 -2.65245765e-01 -7.01611768e-03 -1.06179439e-01\n",
      " -1.43279940e-01  1.37709171e-01  1.23378836e-01  2.84351051e-01\n",
      "  2.91978661e-02 -2.37185672e-01 -3.22682336e-02  4.42534275e-02\n",
      "  3.05596888e-01  1.55934095e-01 -1.91229731e-01 -1.22170582e-01\n",
      "  2.48292893e-01 -1.53895438e-01  2.09770679e-01 -7.00299069e-02\n",
      " -4.37643342e-02 -2.08725687e-02 -1.42057449e-01 -6.80492073e-02\n",
      "  8.28686077e-03  2.28277117e-01 -5.41829228e-01 -1.42109782e-01\n",
      " -5.06401770e-02  3.42260629e-01  2.98146963e-01 -1.06984772e-01\n",
      " -2.21678734e-01 -1.26719162e-01 -6.78979903e-02 -2.39072777e-02\n",
      " -2.57746160e-01  1.54551148e-01 -1.97626367e-01 -1.51887536e-02\n",
      " -2.31023636e-02  7.56123811e-02 -2.22442690e-02  1.26572130e-02\n",
      " -8.11325088e-02  2.41869166e-01 -2.40269378e-01 -1.26023874e-01\n",
      " -1.82761714e-01 -2.66132057e-01 -4.11048681e-02  1.63359612e-01\n",
      " -7.71047324e-02 -4.82741520e-02 -5.08308932e-02 -3.55493091e-02\n",
      " -3.37815210e-02 -7.10171983e-02 -1.90322287e-02 -1.71062991e-01\n",
      "  2.04132386e-02  4.31405269e-02  3.34501527e-02 -1.89957380e-01\n",
      "  8.66344944e-02 -3.05785358e-01 -1.32863000e-01 -2.53167957e-01\n",
      " -3.00054103e-01 -2.46380363e-02  5.51277027e-02 -8.71641934e-03\n",
      " -7.36170560e-02 -2.24420160e-01  4.99078743e-02  6.67622909e-02\n",
      "  3.98422897e-01  1.57549590e-01 -1.10001145e-02 -6.27963468e-02\n",
      "  1.08083330e-01  3.28754559e-02 -7.52232876e-03 -2.35061213e-01\n",
      "  6.91754511e-03 -2.36860082e-01 -5.15926406e-02  1.45152822e-01\n",
      "  3.60035859e-02  1.07287660e-01  1.19132638e-01 -1.75753683e-01\n",
      "  1.44787744e-01 -1.95014179e-01 -2.10144475e-01 -3.51435579e-02\n",
      "  2.65703499e-02 -1.15482761e-02  9.47300568e-02 -1.63508840e-02\n",
      "  1.30258217e-01 -5.85513487e-02 -9.28046256e-02  2.43155435e-01\n",
      " -2.07374993e-04 -5.91894845e-03  1.60545975e-01  3.36040467e-01\n",
      "  5.21854647e-02  1.01467147e-01  1.18538000e-01  8.45164210e-02\n",
      "  1.49646357e-01  1.78514272e-01  1.48782223e-01 -3.11833266e-02\n",
      "  4.66835126e-02  7.41290078e-02  1.19561456e-01 -1.39352977e-01\n",
      " -3.96587819e-01 -2.54310761e-02 -2.47267202e-01 -7.28515610e-02\n",
      " -6.85144812e-02  1.67054176e-01 -1.07370354e-01  2.60064844e-02\n",
      "  8.38876590e-02  3.45096916e-01 -4.47554439e-01 -6.10561296e-02\n",
      " -5.37415855e-02 -1.74684271e-01  8.68316144e-02 -2.49615476e-01\n",
      "  5.16563430e-02  2.34754413e-01  7.79039711e-02  3.56392801e-01\n",
      "  7.25742951e-02 -1.18931174e-01 -2.47941166e-01  3.01274717e-01\n",
      "  1.26397133e-01 -1.21552125e-02  6.80304617e-02  2.40482837e-01\n",
      " -2.57520288e-01 -7.50246719e-02 -9.51452851e-02  3.00224662e-01\n",
      " -1.26839325e-01  4.81059868e-03 -9.83727649e-02  1.15026772e-01\n",
      "  3.48603904e-01  1.96984187e-01 -5.89843765e-02  9.29237753e-02\n",
      "  2.10816458e-01 -1.35530636e-01 -1.70986488e-01 -7.20111132e-02\n",
      "  3.01539116e-02 -7.33549669e-02 -1.79454908e-01 -2.35296816e-01\n",
      "  9.74496454e-02 -5.51934466e-02  1.97958782e-01 -3.06212902e-01\n",
      "  8.37548003e-02  2.91007310e-01 -1.51137546e-01  1.48370922e-01\n",
      "  5.29707745e-02  9.99800637e-02 -3.27037752e-01  1.05532505e-01\n",
      " -1.20394573e-01 -2.76006255e-02 -2.38739997e-01  7.27511048e-02\n",
      "  2.39130929e-01 -2.87628978e-01  1.97369397e-01 -9.94340796e-03\n",
      "  8.88902098e-02 -3.91488820e-02 -4.47651409e-02  1.05844341e-01\n",
      " -2.18225405e-01  1.17100500e-01  1.16465375e-01  2.05235749e-01\n",
      "  7.98684061e-02 -1.67271271e-01  1.34035856e-01  4.26893421e-02\n",
      "  4.28642221e-02 -2.27139682e-01 -2.96946228e-01  4.28836718e-02\n",
      " -6.55293539e-02 -1.13364555e-01  8.68774131e-02 -3.88582349e-01\n",
      "  3.79282376e-03  2.77714610e-01 -9.68584046e-02  2.90734142e-01\n",
      " -1.50214108e-02  7.53664151e-02 -3.30431640e-01  8.64386335e-02\n",
      " -1.01662777e-01  1.15603045e-01  1.69398665e-01  7.83532411e-02\n",
      " -5.21935448e-02  6.83624744e-02 -1.26115503e-02 -2.26808600e-02\n",
      "  1.51507825e-01 -1.10892832e-01 -1.12649105e-01 -7.01120473e-04\n",
      " -2.56281286e-01  1.31588697e-01 -6.41460046e-02  8.71103480e-02\n",
      " -8.33822638e-02  2.48453259e-01  2.16581225e-01 -1.03095593e-02\n",
      " -3.16002548e-01 -1.94898129e-01  9.27115418e-03  6.32913113e-02]\n"
     ]
    }
   ],
   "source": [
    "# Обработаем текст [0]\n",
    "doc_permuted_sentences_0 = nlp(permuted_sentences[0])\n",
    "print(doc_permuted_sentences_0)\n",
    "\n",
    "#Отобразим векторы для текста [0] \n",
    "vec_permuted_sentences_0 = doc_permuted_sentences_0.vector\n",
    "print(vec_permuted_sentences_0)"
   ]
  },
  {
   "cell_type": "code",
   "execution_count": 31,
   "id": "962784eb-0169-46f2-ab24-7e66faa90f49",
   "metadata": {
    "tags": []
   },
   "outputs": [
    {
     "name": "stdout",
     "output_type": "stream",
     "text": [
      "едет быстро Машина дороге по\n"
     ]
    },
    {
     "ename": "NameError",
     "evalue": "name 'doc_permuted_sentences' is not defined",
     "output_type": "error",
     "traceback": [
      "\u001b[0;31m---------------------------------------------------------------------------\u001b[0m",
      "\u001b[0;31mNameError\u001b[0m                                 Traceback (most recent call last)",
      "Cell \u001b[0;32mIn[31], line 6\u001b[0m\n\u001b[1;32m      3\u001b[0m \u001b[38;5;28mprint\u001b[39m(doc_permuted_sentences_1)\n\u001b[1;32m      5\u001b[0m \u001b[38;5;66;03m#Отобразим векторы для текста [1] \u001b[39;00m\n\u001b[0;32m----> 6\u001b[0m vec_permuted_sentences_1 \u001b[38;5;241m=\u001b[39m \u001b[43mdoc_permuted_sentences\u001b[49m[\u001b[38;5;241m1\u001b[39m]\u001b[38;5;241m.\u001b[39mvector\n\u001b[1;32m      7\u001b[0m \u001b[38;5;28mprint\u001b[39m(vec_permuted_sentences_1)\n",
      "\u001b[0;31mNameError\u001b[0m: name 'doc_permuted_sentences' is not defined"
     ]
    }
   ],
   "source": [
    "# Обработаем текста [1]\n",
    "doc_permuted_sentences_1 = nlp(permuted_sentences[1])\n",
    "print(doc_permuted_sentences_1)\n",
    "\n",
    "#Отобразим векторы для текста [1] \n",
    "vec_permuted_sentences_1 = doc_permuted_sentences[1].vector\n",
    "print(vec_permuted_sentences_1)"
   ]
  },
  {
   "cell_type": "code",
   "execution_count": 32,
   "id": "c8052590-e8fe-4108-9aa7-6cbc3f00076d",
   "metadata": {
    "tags": []
   },
   "outputs": [
    {
     "name": "stdout",
     "output_type": "stream",
     "text": [
      "едет по быстро дороге Машина\n"
     ]
    },
    {
     "ename": "NameError",
     "evalue": "name 'doc_permuted_sentences' is not defined",
     "output_type": "error",
     "traceback": [
      "\u001b[0;31m---------------------------------------------------------------------------\u001b[0m",
      "\u001b[0;31mNameError\u001b[0m                                 Traceback (most recent call last)",
      "Cell \u001b[0;32mIn[32], line 6\u001b[0m\n\u001b[1;32m      3\u001b[0m \u001b[38;5;28mprint\u001b[39m(doc_permuted_sentences_2)\n\u001b[1;32m      5\u001b[0m \u001b[38;5;66;03m#Отобразим векторы для текста [2] \u001b[39;00m\n\u001b[0;32m----> 6\u001b[0m vec_permuted_sentences_2 \u001b[38;5;241m=\u001b[39m \u001b[43mdoc_permuted_sentences\u001b[49m[\u001b[38;5;241m2\u001b[39m]\u001b[38;5;241m.\u001b[39mvector\n\u001b[1;32m      7\u001b[0m \u001b[38;5;28mprint\u001b[39m(vec_permuted_sentences_2)\n",
      "\u001b[0;31mNameError\u001b[0m: name 'doc_permuted_sentences' is not defined"
     ]
    }
   ],
   "source": [
    "# Обработаем текста [2]\n",
    "doc_permuted_sentences_2 = nlp(permuted_sentences[2])\n",
    "print(doc_permuted_sentences_2)\n",
    "\n",
    "#Отобразим векторы для текста [2] \n",
    "vec_permuted_sentences_2 = doc_permuted_sentences[2].vector\n",
    "print(vec_permuted_sentences_2)"
   ]
  },
  {
   "cell_type": "code",
   "execution_count": 33,
   "id": "5a86507d-c37b-444f-aad2-cd686ab0104f",
   "metadata": {
    "tags": []
   },
   "outputs": [
    {
     "name": "stdout",
     "output_type": "stream",
     "text": [
      "дороге едет Машина быстро по\n"
     ]
    },
    {
     "ename": "NameError",
     "evalue": "name 'doc_permuted_sentences' is not defined",
     "output_type": "error",
     "traceback": [
      "\u001b[0;31m---------------------------------------------------------------------------\u001b[0m",
      "\u001b[0;31mNameError\u001b[0m                                 Traceback (most recent call last)",
      "Cell \u001b[0;32mIn[33], line 6\u001b[0m\n\u001b[1;32m      3\u001b[0m \u001b[38;5;28mprint\u001b[39m(doc_permuted_sentences_3)\n\u001b[1;32m      5\u001b[0m \u001b[38;5;66;03m#Отобразим векторы для текста [3] \u001b[39;00m\n\u001b[0;32m----> 6\u001b[0m vec_permuted_sentences_3 \u001b[38;5;241m=\u001b[39m \u001b[43mdoc_permuted_sentences\u001b[49m[\u001b[38;5;241m3\u001b[39m]\u001b[38;5;241m.\u001b[39mvector\n\u001b[1;32m      7\u001b[0m \u001b[38;5;28mprint\u001b[39m(vec_permuted_sentences_3)\n",
      "\u001b[0;31mNameError\u001b[0m: name 'doc_permuted_sentences' is not defined"
     ]
    }
   ],
   "source": [
    "# Обработаем текста [3]\n",
    "doc_permuted_sentences_3 = nlp(permuted_sentences[3])\n",
    "print(doc_permuted_sentences_3)\n",
    "\n",
    "#Отобразим векторы для текста [3] \n",
    "vec_permuted_sentences_3 = doc_permuted_sentences[3].vector\n",
    "print(vec_permuted_sentences_3)"
   ]
  },
  {
   "cell_type": "code",
   "execution_count": 34,
   "id": "f767f698-0689-46c5-8d48-3a12170ed794",
   "metadata": {
    "tags": []
   },
   "outputs": [
    {
     "name": "stdout",
     "output_type": "stream",
     "text": [
      "Машина по быстро дороге едет\n"
     ]
    },
    {
     "ename": "NameError",
     "evalue": "name 'doc_permuted_sentences' is not defined",
     "output_type": "error",
     "traceback": [
      "\u001b[0;31m---------------------------------------------------------------------------\u001b[0m",
      "\u001b[0;31mNameError\u001b[0m                                 Traceback (most recent call last)",
      "Cell \u001b[0;32mIn[34], line 6\u001b[0m\n\u001b[1;32m      3\u001b[0m \u001b[38;5;28mprint\u001b[39m(doc_permuted_sentences_4)\n\u001b[1;32m      5\u001b[0m \u001b[38;5;66;03m#Отобразим векторы для текста [4] \u001b[39;00m\n\u001b[0;32m----> 6\u001b[0m vec_permuted_sentences_4 \u001b[38;5;241m=\u001b[39m \u001b[43mdoc_permuted_sentences\u001b[49m[\u001b[38;5;241m4\u001b[39m]\u001b[38;5;241m.\u001b[39mvector\n\u001b[1;32m      7\u001b[0m \u001b[38;5;28mprint\u001b[39m(vec_permuted_sentences_4)\n",
      "\u001b[0;31mNameError\u001b[0m: name 'doc_permuted_sentences' is not defined"
     ]
    }
   ],
   "source": [
    "# Обработаем текста [4]\n",
    "doc_permuted_sentences_4 = nlp(permuted_sentences[4])\n",
    "print(doc_permuted_sentences_4)\n",
    "\n",
    "#Отобразим векторы для текста [4] \n",
    "vec_permuted_sentences_4 = doc_permuted_sentences[4].vector\n",
    "print(vec_permuted_sentences_4)"
   ]
  },
  {
   "cell_type": "code",
   "execution_count": 35,
   "id": "c97f3126-6126-4f6e-a346-397d10856cfd",
   "metadata": {
    "tags": []
   },
   "outputs": [],
   "source": [
    "import spacy\n",
    "from random import shuffle\n",
    "import numpy as np"
   ]
  },
  {
   "cell_type": "code",
   "execution_count": 47,
   "id": "3171ece3-9d10-4dab-924a-240401acda45",
   "metadata": {
    "tags": []
   },
   "outputs": [
    {
     "name": "stdout",
     "output_type": "stream",
     "text": [
      "0.0\n"
     ]
    }
   ],
   "source": [
    "# Вычисляем косинусное расстояние между векторами\n",
    "cosine_distance_0 = 1 - np.dot(vec_text, vec_permuted_sentences_0) / (np.linalg.norm(vec_text) * np.linalg.norm(vec_permuted_sentences_0))\n",
    "print(cosine_distance_0)"
   ]
  },
  {
   "cell_type": "code",
   "execution_count": 37,
   "id": "de6b93cf-684a-4f9a-8f22-c75e66bd1809",
   "metadata": {
    "tags": []
   },
   "outputs": [
    {
     "ename": "NameError",
     "evalue": "name 'vec_permuted_sentences_1' is not defined",
     "output_type": "error",
     "traceback": [
      "\u001b[0;31m---------------------------------------------------------------------------\u001b[0m",
      "\u001b[0;31mNameError\u001b[0m                                 Traceback (most recent call last)",
      "Cell \u001b[0;32mIn[37], line 1\u001b[0m\n\u001b[0;32m----> 1\u001b[0m cosine_distance_1 \u001b[38;5;241m=\u001b[39m \u001b[38;5;241m1\u001b[39m \u001b[38;5;241m-\u001b[39m np\u001b[38;5;241m.\u001b[39mdot(vec_text, \u001b[43mvec_permuted_sentences_1\u001b[49m) \u001b[38;5;241m/\u001b[39m (np\u001b[38;5;241m.\u001b[39mlinalg\u001b[38;5;241m.\u001b[39mnorm(vec_text) \u001b[38;5;241m*\u001b[39m np\u001b[38;5;241m.\u001b[39mlinalg\u001b[38;5;241m.\u001b[39mnorm(vec_permuted_sentences_1))\n\u001b[1;32m      2\u001b[0m \u001b[38;5;28mprint\u001b[39m(cosine_distance_1)\n",
      "\u001b[0;31mNameError\u001b[0m: name 'vec_permuted_sentences_1' is not defined"
     ]
    }
   ],
   "source": [
    "cosine_distance_1 = 1 - np.dot(vec_text, vec_permuted_sentences_1) / (np.linalg.norm(vec_text) * np.linalg.norm(vec_permuted_sentences_1))\n",
    "print(cosine_distance_1)"
   ]
  },
  {
   "cell_type": "code",
   "execution_count": 38,
   "id": "29162500-d3d1-4163-9dbc-1cff7b7c375a",
   "metadata": {
    "tags": []
   },
   "outputs": [
    {
     "ename": "NameError",
     "evalue": "name 'vec_permuted_sentences_2' is not defined",
     "output_type": "error",
     "traceback": [
      "\u001b[0;31m---------------------------------------------------------------------------\u001b[0m",
      "\u001b[0;31mNameError\u001b[0m                                 Traceback (most recent call last)",
      "Cell \u001b[0;32mIn[38], line 1\u001b[0m\n\u001b[0;32m----> 1\u001b[0m cosine_distance_2 \u001b[38;5;241m=\u001b[39m \u001b[38;5;241m1\u001b[39m \u001b[38;5;241m-\u001b[39m np\u001b[38;5;241m.\u001b[39mdot(vec_text, \u001b[43mvec_permuted_sentences_2\u001b[49m) \u001b[38;5;241m/\u001b[39m (np\u001b[38;5;241m.\u001b[39mlinalg\u001b[38;5;241m.\u001b[39mnorm(vec_text) \u001b[38;5;241m*\u001b[39m np\u001b[38;5;241m.\u001b[39mlinalg\u001b[38;5;241m.\u001b[39mnorm(vec_permuted_sentences_2))\n\u001b[1;32m      2\u001b[0m \u001b[38;5;28mprint\u001b[39m(cosine_distance_2)\n",
      "\u001b[0;31mNameError\u001b[0m: name 'vec_permuted_sentences_2' is not defined"
     ]
    }
   ],
   "source": [
    "cosine_distance_2 = 1 - np.dot(vec_text, vec_permuted_sentences_2) / (np.linalg.norm(vec_text) * np.linalg.norm(vec_permuted_sentences_2))\n",
    "print(cosine_distance_2)"
   ]
  },
  {
   "cell_type": "code",
   "execution_count": 39,
   "id": "b5abe63c-be82-434b-90f0-9d8e0aef78d3",
   "metadata": {
    "tags": []
   },
   "outputs": [
    {
     "ename": "NameError",
     "evalue": "name 'vec_permuted_sentences_3' is not defined",
     "output_type": "error",
     "traceback": [
      "\u001b[0;31m---------------------------------------------------------------------------\u001b[0m",
      "\u001b[0;31mNameError\u001b[0m                                 Traceback (most recent call last)",
      "Cell \u001b[0;32mIn[39], line 1\u001b[0m\n\u001b[0;32m----> 1\u001b[0m cosine_distance_3 \u001b[38;5;241m=\u001b[39m \u001b[38;5;241m1\u001b[39m \u001b[38;5;241m-\u001b[39m np\u001b[38;5;241m.\u001b[39mdot(vec_text, \u001b[43mvec_permuted_sentences_3\u001b[49m) \u001b[38;5;241m/\u001b[39m (np\u001b[38;5;241m.\u001b[39mlinalg\u001b[38;5;241m.\u001b[39mnorm(vec_text) \u001b[38;5;241m*\u001b[39m np\u001b[38;5;241m.\u001b[39mlinalg\u001b[38;5;241m.\u001b[39mnorm(vec_permuted_sentences_3))\n\u001b[1;32m      2\u001b[0m \u001b[38;5;28mprint\u001b[39m(cosine_distance_3)\n",
      "\u001b[0;31mNameError\u001b[0m: name 'vec_permuted_sentences_3' is not defined"
     ]
    }
   ],
   "source": [
    "cosine_distance_3 = 1 - np.dot(vec_text, vec_permuted_sentences_3) / (np.linalg.norm(vec_text) * np.linalg.norm(vec_permuted_sentences_3))\n",
    "print(cosine_distance_3)"
   ]
  },
  {
   "cell_type": "code",
   "execution_count": 40,
   "id": "48c7980a-c099-4771-84dd-0e3ee0f3e2c4",
   "metadata": {
    "tags": []
   },
   "outputs": [
    {
     "ename": "NameError",
     "evalue": "name 'vec_permuted_sentences_4' is not defined",
     "output_type": "error",
     "traceback": [
      "\u001b[0;31m---------------------------------------------------------------------------\u001b[0m",
      "\u001b[0;31mNameError\u001b[0m                                 Traceback (most recent call last)",
      "Cell \u001b[0;32mIn[40], line 1\u001b[0m\n\u001b[0;32m----> 1\u001b[0m cosine_distance_4 \u001b[38;5;241m=\u001b[39m \u001b[38;5;241m1\u001b[39m \u001b[38;5;241m-\u001b[39m np\u001b[38;5;241m.\u001b[39mdot(vec_text, \u001b[43mvec_permuted_sentences_4\u001b[49m) \u001b[38;5;241m/\u001b[39m (np\u001b[38;5;241m.\u001b[39mlinalg\u001b[38;5;241m.\u001b[39mnorm(vec_text) \u001b[38;5;241m*\u001b[39m np\u001b[38;5;241m.\u001b[39mlinalg\u001b[38;5;241m.\u001b[39mnorm(vec_permuted_sentences_4))\n\u001b[1;32m      2\u001b[0m \u001b[38;5;28mprint\u001b[39m(cosine_distance_4)\n",
      "\u001b[0;31mNameError\u001b[0m: name 'vec_permuted_sentences_4' is not defined"
     ]
    }
   ],
   "source": [
    "cosine_distance_4 = 1 - np.dot(vec_text, vec_permuted_sentences_4) / (np.linalg.norm(vec_text) * np.linalg.norm(vec_permuted_sentences_4))\n",
    "print(cosine_distance_4)"
   ]
  },
  {
   "cell_type": "code",
   "execution_count": 41,
   "id": "5c11245e-a78d-4f71-b8a9-abd1f22f4fa4",
   "metadata": {
    "tags": []
   },
   "outputs": [
    {
     "name": "stdout",
     "output_type": "stream",
     "text": [
      "Задача №1 \n",
      "Результаты:\n",
      "Исходное предложение: Машина едет быстро по дороге\n",
      "Измененное предложение 1: дороге быстро едет Машина по\n",
      "Измененное предложение 2: едет быстро Машина дороге по\n",
      "Измененное предложение 3: едет по быстро дороге Машина\n",
      "Измененное предложение 4: дороге едет Машина быстро по\n",
      "Измененное предложение 5: Машина по быстро дороге едет\n",
      "\n",
      "Результаты:\n"
     ]
    },
    {
     "ename": "NameError",
     "evalue": "name 'cosine_distance_0' is not defined",
     "output_type": "error",
     "traceback": [
      "\u001b[0;31m---------------------------------------------------------------------------\u001b[0m",
      "\u001b[0;31mNameError\u001b[0m                                 Traceback (most recent call last)",
      "Cell \u001b[0;32mIn[41], line 9\u001b[0m\n\u001b[1;32m      7\u001b[0m \u001b[38;5;28mprint\u001b[39m(\u001b[38;5;124mf\u001b[39m\u001b[38;5;124m\"\u001b[39m\u001b[38;5;124mИзмененное предложение 5: \u001b[39m\u001b[38;5;132;01m{\u001b[39;00mpermuted_sentences[\u001b[38;5;241m4\u001b[39m]\u001b[38;5;132;01m}\u001b[39;00m\u001b[38;5;124m\"\u001b[39m)\n\u001b[1;32m      8\u001b[0m \u001b[38;5;28mprint\u001b[39m(\u001b[38;5;124m\"\u001b[39m\u001b[38;5;130;01m\\n\u001b[39;00m\u001b[38;5;124mРезультаты:\u001b[39m\u001b[38;5;124m\"\u001b[39m)\n\u001b[0;32m----> 9\u001b[0m \u001b[38;5;28mprint\u001b[39m(\u001b[38;5;124mf\u001b[39m\u001b[38;5;124m\"\u001b[39m\u001b[38;5;124mКосинусное расстояние для предложение 1: \u001b[39m\u001b[38;5;132;01m{\u001b[39;00mcosine_distance_0\u001b[38;5;132;01m}\u001b[39;00m\u001b[38;5;124m\"\u001b[39m)\n\u001b[1;32m     10\u001b[0m \u001b[38;5;28mprint\u001b[39m(\u001b[38;5;124mf\u001b[39m\u001b[38;5;124m\"\u001b[39m\u001b[38;5;124mКосинусное расстояние для предложение 2: \u001b[39m\u001b[38;5;132;01m{\u001b[39;00mcosine_distance_1\u001b[38;5;132;01m}\u001b[39;00m\u001b[38;5;124m\"\u001b[39m)\n\u001b[1;32m     11\u001b[0m \u001b[38;5;28mprint\u001b[39m(\u001b[38;5;124mf\u001b[39m\u001b[38;5;124m\"\u001b[39m\u001b[38;5;124mКосинусное расстояние для предложение 3: \u001b[39m\u001b[38;5;132;01m{\u001b[39;00mcosine_distance_2\u001b[38;5;132;01m}\u001b[39;00m\u001b[38;5;124m\"\u001b[39m)\n",
      "\u001b[0;31mNameError\u001b[0m: name 'cosine_distance_0' is not defined"
     ]
    }
   ],
   "source": [
    "print(\"Задача №1 \\nРезультаты:\")\n",
    "print(f\"Исходное предложение: {text}\")\n",
    "print(f\"Измененное предложение 1: {permuted_sentences[0]}\")\n",
    "print(f\"Измененное предложение 2: {permuted_sentences[1]}\")\n",
    "print(f\"Измененное предложение 3: {permuted_sentences[2]}\")\n",
    "print(f\"Измененное предложение 4: {permuted_sentences[3]}\")\n",
    "print(f\"Измененное предложение 5: {permuted_sentences[4]}\")\n",
    "print(\"\\nРезультаты:\")\n",
    "print(f\"Косинусное расстояние для предложение 1: {cosine_distance_0}\")\n",
    "print(f\"Косинусное расстояние для предложение 2: {cosine_distance_1}\")\n",
    "print(f\"Косинусное расстояние для предложение 3: {cosine_distance_2}\")\n",
    "print(f\"Косинусное расстояние для предложение 4: {cosine_distance_3}\")\n",
    "print(f\"Косинусное расстояние для предложение 5: {cosine_distance_4}\")"
   ]
  },
  {
   "cell_type": "code",
   "execution_count": null,
   "id": "3864ab46-7189-4273-b858-6be36c7460b7",
   "metadata": {},
   "outputs": [],
   "source": []
  },
  {
   "cell_type": "code",
   "execution_count": null,
   "id": "a9b6c9ab-c312-4793-8ca2-0b6ae98b4608",
   "metadata": {},
   "outputs": [],
   "source": []
  }
 ],
 "metadata": {
  "kernelspec": {
   "display_name": "Ilnur",
   "language": "python",
   "name": "usmanov-il"
  },
  "language_info": {
   "codemirror_mode": {
    "name": "ipython",
    "version": 3
   },
   "file_extension": ".py",
   "mimetype": "text/x-python",
   "name": "python",
   "nbconvert_exporter": "python",
   "pygments_lexer": "ipython3",
   "version": "3.9.7"
  }
 },
 "nbformat": 4,
 "nbformat_minor": 5
}
