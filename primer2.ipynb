{
 "cells": [
  {
   "cell_type": "code",
   "execution_count": null,
   "id": "b616f76b-9772-4425-9558-c2ebbe027355",
   "metadata": {},
   "outputs": [],
   "source": [
    "import spacy"
   ]
  },
  {
   "cell_type": "code",
   "execution_count": null,
   "id": "3ce76c4b-1279-4e24-988f-050162856cfb",
   "metadata": {},
   "outputs": [],
   "source": [
    "nlp = spacy.load(\"ru_core_news_md\")"
   ]
  },
  {
   "cell_type": "code",
   "execution_count": null,
   "id": "a8885662-9fac-4959-918c-6b94a08d7d48",
   "metadata": {},
   "outputs": [],
   "source": [
    "text = '''Машина едет быстро по дороге'''"
   ]
  },
  {
   "cell_type": "code",
   "execution_count": null,
   "id": "81010863-bc2f-4b02-ba1d-60eab256593d",
   "metadata": {},
   "outputs": [],
   "source": [
    "# Обработаем текст\n",
    "doc_text = nlp(text)\n",
    "print(doc_text)"
   ]
  },
  {
   "cell_type": "code",
   "execution_count": null,
   "id": "3c50e206-501b-4da4-aeab-2b2933584c1d",
   "metadata": {},
   "outputs": [],
   "source": [
    "# Вектор предложения\n",
    "vec_text = doc_text.vector\n",
    "print(vec_text)"
   ]
  },
  {
   "cell_type": "code",
   "execution_count": null,
   "id": "f2d0989d-7f9f-4296-9792-4c4dc95ab0b8",
   "metadata": {},
   "outputs": [],
   "source": [
    "#Разбиение на слова предложение\n",
    "words = text.split()\n",
    "print(words)"
   ]
  },
  {
   "cell_type": "code",
   "execution_count": null,
   "id": "dff26f25-4474-44b9-9329-07f7f80ecc6e",
   "metadata": {},
   "outputs": [],
   "source": [
    "import random"
   ]
  },
  {
   "cell_type": "code",
   "execution_count": null,
   "id": "a8e36b69-ad91-47c7-8d4b-ad6a7bab2ba7",
   "metadata": {},
   "outputs": [],
   "source": [
    "def generate_random_permutations(words, num_permutations):\n",
    "    permutations = []\n",
    "    for _ in range(num_permutations):\n",
    "        shuffled_words = words[:]\n",
    "        random.shuffle(shuffled_words)\n",
    "        permutations.append(' '.join(shuffled_words))\n",
    "    return permutations\n",
    "\n",
    "num_permutations = 5\n",
    "permuted_sentences = generate_random_permutations(words, num_permutations)\n",
    "print(permuted_sentences[0])\n",
    "print(permuted_sentences[1])\n",
    "print(permuted_sentences[2])\n",
    "print(permuted_sentences[3])\n",
    "print(permuted_sentences[4])\n",
    "print(permuted_sentences)"
   ]
  },
  {
   "cell_type": "code",
   "execution_count": null,
   "id": "7fe03306-f395-444f-88fd-4426d4bfb9e9",
   "metadata": {},
   "outputs": [],
   "source": [
    "# Обработаем текст [0]\n",
    "doc_permuted_sentences_0 = nlp(permuted_sentences[0])\n",
    "print(doc_permuted_sentences_0)\n",
    "\n",
    "#Отобразим векторы для текста [0] \n",
    "vec_permuted_sentences_0 = doc_permuted_sentences_0.vector\n",
    "print(vec_permuted_sentences_0)"
   ]
  },
  {
   "cell_type": "code",
   "execution_count": null,
   "id": "ee5d7b61-54dc-4f1b-b3d3-b4cfad0916e4",
   "metadata": {},
   "outputs": [],
   "source": [
    "# Обработаем текста [1]\n",
    "doc_permuted_sentences_1 = nlp(permuted_sentences[1])\n",
    "print(doc_permuted_sentences_1)\n",
    "\n",
    "#Отобразим векторы для текста [1] \n",
    "vec_permuted_sentences_1 = doc_permuted_sentences_1.vector\n",
    "print(vec_permuted_sentences_1)"
   ]
  },
  {
   "cell_type": "code",
   "execution_count": null,
   "id": "e4e7fdcc-4ba7-4e75-848a-68d135dae750",
   "metadata": {},
   "outputs": [],
   "source": [
    "# Обработаем текста [2]\n",
    "doc_permuted_sentences_2 = nlp(permuted_sentences[2])\n",
    "print(doc_permuted_sentences_2)\n",
    "\n",
    "#Отобразим векторы для текста [2] \n",
    "vec_permuted_sentences_2 = doc_permuted_sentences_2.vector\n",
    "print(vec_permuted_sentences_2)"
   ]
  },
  {
   "cell_type": "code",
   "execution_count": null,
   "id": "430eac0c-14be-4d6c-95fb-a5072183c145",
   "metadata": {},
   "outputs": [],
   "source": [
    "# Обработаем текста [3]\n",
    "doc_permuted_sentences_3 = nlp(permuted_sentences[3])\n",
    "print(doc_permuted_sentences_3)\n",
    "\n",
    "#Отобразим векторы для текста [3] \n",
    "vec_permuted_sentences_3 = doc_permuted_sentences_3.vector\n",
    "print(vec_permuted_sentences_3)"
   ]
  },
  {
   "cell_type": "code",
   "execution_count": null,
   "id": "ee84f8d7-2d44-4e52-a8c8-c00b553a4945",
   "metadata": {},
   "outputs": [],
   "source": [
    "# Обработаем текста [4]\n",
    "doc_permuted_sentences_4 = nlp(permuted_sentences[4])\n",
    "print(doc_permuted_sentences_4)\n",
    "\n",
    "#Отобразим векторы для текста [4] \n",
    "vec_permuted_sentences_4 = doc_permuted_sentences_4.vector\n",
    "print(vec_permuted_sentences_4)"
   ]
  },
  {
   "cell_type": "code",
   "execution_count": null,
   "id": "4588c48d-570f-495c-9451-abd0ba6f29de",
   "metadata": {},
   "outputs": [],
   "source": [
    "# Добавим мою анкету text_Iljnur\n",
    "text_Iljnur = '''мотивация\n",
    "Риск «перегорания» мотивации\n",
    "Вы очень серьёзно относитесь к результатам учёбы. На первый взгляд, звучит хорошо, но не всё так просто.\n",
    "Избыточная мотивация говорит о том, что вы ожидаете от учёбы слишком многого. Например, убеждены, что от учёбы на 100% зависит жизненный успех. Или хотите впечатлить результатами важного для вас человека.\n",
    "Еще люди со сверхвысокой мотивацией могут сильно бояться ошибок. Поэтому им страшно начинать новое обучение или приступать к сложным заданиям.\n",
    "\n",
    "Что делать?\n",
    "Учёба — это здорово, но, бывает, она занимает слишком большое место в жизни. Если это про вас, попробуйте отвлечься и переключить внимание. А заодно проверить, всё ли в порядке в работе, отношениях с друзьями и других сферах жизни.\n",
    "\n",
    "умение учиться\n",
    "Ваша способность учиться на базовом уровне\n",
    "Скорее всего, вы хорошо организуете учебный процесс, можете вписать занятия в график и обеспечить себе подходящую среду.\n",
    "\n",
    "Это отлично, но в стрессовых ситуациях эти навыки могут выключаться. Например, когда вы ошибаетесь по невнимательности и получаете плохую для себя оценку. Вследствие таких неудач даже может появиться желание бросить учёбу.\n",
    "\n",
    "Что делать?\n",
    "Ошибки в учёбе — это нормально. Они, как подсказки в компьютерной игре, помогают не заблудиться на пути к цели. Не требуйте от себя невозможного и не ругайте за неудачи. А главное — продолжайте развивать навыки, которые помогают учиться.\n",
    "\n",
    "cамооценка\n",
    "Не получилось определить результат\n",
    "Любой тест работает с воспоминаниями, а они могут искажаться под воздействием стресса и других эмоций. Возможно, вы выбирали варианты ответа, которые не вполне отражают то, как вы обычно поступаете в действительности.\n",
    "\n",
    "Что делать?\n",
    "Если так вышло только с одним блоком теста, сфокусируйтесь на тех, где получилось определить результат. А затем попробуйте пройти тест заново.'''"
   ]
  },
  {
   "cell_type": "code",
   "execution_count": null,
   "id": "84ed1d73-e437-4e93-a4c6-766f042305ad",
   "metadata": {},
   "outputs": [],
   "source": [
    "doc_text_Iljnur = nlp(text_Iljnur)\n",
    "print(doc_text_Iljnur)"
   ]
  },
  {
   "cell_type": "code",
   "execution_count": null,
   "id": "48d3cada-71e1-4280-a1d4-693a692bb73f",
   "metadata": {},
   "outputs": [],
   "source": [
    "# Вычислим меру сходства между исходным документом и новым документом [0]\n",
    "print(doc_text.similarity(doc_permuted_sentences_0))\n",
    "\n",
    "#print(doc_text_Iljnur.similarity(doc_permuted_sentences_0))"
   ]
  },
  {
   "cell_type": "code",
   "execution_count": null,
   "id": "49cbd210-9a38-47c5-b570-c3302cd39c0e",
   "metadata": {},
   "outputs": [],
   "source": [
    "# Вычислим меру сходства между исходным документом и новым документом [1]\n",
    "print(doc_text.similarity(doc_permuted_sentences_1))\n",
    "\n",
    "# print(doc_text_Iljnur.similarity(doc_permuted_sentences_1))"
   ]
  },
  {
   "cell_type": "code",
   "execution_count": null,
   "id": "27ada4a9-48ac-44f2-ae26-65c79046ff64",
   "metadata": {},
   "outputs": [],
   "source": [
    "# Вычислим меру сходства между исходным документом и новым документом [2]\n",
    "print(doc_text.similarity(doc_permuted_sentences_2))\n",
    "\n",
    "#print(doc_text_Iljnur.similarity(doc_permuted_sentences_2))"
   ]
  },
  {
   "cell_type": "code",
   "execution_count": null,
   "id": "2b8d64c4-f5c1-40b6-a272-c54c2d08b80c",
   "metadata": {},
   "outputs": [],
   "source": [
    "# Вычислим меру сходства между исходным документом и новым документом [3]\n",
    "print(doc_text.similarity(doc_permuted_sentences_3))\n",
    "\n",
    "#print(doc_text_Iljnur.similarity(doc_permuted_sentences_3))"
   ]
  },
  {
   "cell_type": "code",
   "execution_count": null,
   "id": "70a2b6bf-d871-4188-93e3-2e1a30d9fc33",
   "metadata": {},
   "outputs": [],
   "source": [
    "# Вычислим меру сходства между исходным документом и новым документом [4]\n",
    "print(doc_text.similarity(doc_permuted_sentences_4))\n",
    "\n",
    "#print(doc_text_Iljnur.similarity(doc_permuted_sentences_4))\n"
   ]
  },
  {
   "cell_type": "code",
   "execution_count": null,
   "id": "2c17e088-8fb2-4ec4-a6e3-df6e3e4035f9",
   "metadata": {},
   "outputs": [],
   "source": [
    "# Вычислим меру сходства между исходным документом и новым документом [4]\n",
    "print(doc_text.similarity(doc_text))"
   ]
  },
  {
   "cell_type": "code",
   "execution_count": null,
   "id": "481d4a9a-ffde-406e-982b-92983491948f",
   "metadata": {},
   "outputs": [],
   "source": [
    "# функция принимает путь к файлу (path) и открывает файл в режиме чтения ('r'), используя кодировку UTF-8\n",
    "def read_file(path):\n",
    "    with open(path, 'r', encoding='utf-8') as file:\n",
    "        return file.read()\n",
    "        \n",
    "file_path_50_00_2020 = read_file('C:\\\\Управление_неструктурированной_информацией\\\\50_00_2020.txt')\n",
    "print(file_path_50_00_2020)"
   ]
  },
  {
   "cell_type": "code",
   "execution_count": null,
   "id": "7fb4bf24-2d0e-477d-977f-1451f8888b9b",
   "metadata": {},
   "outputs": [],
   "source": [
    "doc_file_path_50_00_2020 = nlp(file_path_50_00_2020)\n",
    "print(doc_file_path_50_00_2020)"
   ]
  },
  {
   "cell_type": "code",
   "execution_count": null,
   "id": "a9541168-0235-45d4-975e-527061cdfbfc",
   "metadata": {},
   "outputs": [],
   "source": [
    "print(\"Задача №1 для средней модели (ru_core_news_md) \\nРезультаты:\")\n",
    "print(f\"Исходное предложение: {text}\")\n",
    "print(f\"Измененное предложение 1: {permuted_sentences[0]}\")\n",
    "print(f\"Измененное предложение 2: {permuted_sentences[1]}\")\n",
    "print(f\"Измененное предложение 3: {permuted_sentences[2]}\")\n",
    "print(f\"Измененное предложение 4: {permuted_sentences[3]}\")\n",
    "print(f\"Измененное предложение 5: {permuted_sentences[4]}\")\n",
    "print(\"\\nРезультаты:\")\n",
    "print(f\"Мера сходства между исходным предложением и изм. предложением 1: {doc_text.similarity(doc_permuted_sentences_0)}\")\n",
    "print(f\"Мера сходства между исходным предложением и изм. предложением 2: {doc_text.similarity(doc_permuted_sentences_1)}\")\n",
    "print(f\"Мера сходства между исходным предложением и изм. предложением 3: {doc_text.similarity(doc_permuted_sentences_2)}\")\n",
    "print(f\"Мера сходства между исходным предложением и изм. предложением 4: {doc_text.similarity(doc_permuted_sentences_3)}\")\n",
    "print(f\"Мера сходства между исходным предложением и изм. предложением 5: {doc_text.similarity(doc_permuted_sentences_4)}\")\n",
    "print(\"\\nРезультаты:\")\n",
    "print(f\"Мера сходства между анкетой doc_Iljnur и Исходным предложением: {doc_text_Iljnur.similarity(doc_text)}\")\n",
    "print(f\"Мера сходства между анкетой doc_Iljnur и изм. предложением 1: {doc_text_Iljnur.similarity(doc_permuted_sentences_0)}\")\n",
    "print(f\"Мера сходства между анкетой doc_Iljnur и изм. предложением 2: {doc_text_Iljnur.similarity(doc_permuted_sentences_1)}\")\n",
    "print(f\"Мера сходства между анкетой doc_Iljnur и изм. предложением 3: {doc_text_Iljnur.similarity(doc_permuted_sentences_2)}\")\n",
    "print(f\"Мера сходства между анкетой doc_Iljnur и изм. предложением 4: {doc_text_Iljnur.similarity(doc_permuted_sentences_3)}\")\n",
    "print(f\"Мера сходства между анкетой doc_Iljnur и изм. предложением 5: {doc_text_Iljnur.similarity(doc_permuted_sentences_4)}\")\n",
    "print(\"\\nРезультаты:\")\n",
    "print(f\"Мера сходства между документом doc_file_path_50_00_2020 и Исходным предложением: {doc_file_path_50_00_2020.similarity(doc_text)}\")\n",
    "print(f\"Мера сходства между документом doc_file_path_50_00_2020 и изм. предложением 1: {doc_file_path_50_00_2020.similarity(doc_permuted_sentences_0)}\")\n",
    "print(f\"Мера сходства между документом doc_file_path_50_00_2020 и изм. предложением 2: {doc_file_path_50_00_2020.similarity(doc_permuted_sentences_1)}\")\n",
    "print(f\"Мера сходства между документом doc_file_path_50_00_2020 и изм. предложением 3: {doc_file_path_50_00_2020.similarity(doc_permuted_sentences_2)}\")\n",
    "print(f\"Мера сходства между документом doc_file_path_50_00_2020 и изм. предложением 4: {doc_file_path_50_00_2020.similarity(doc_permuted_sentences_3)}\")\n",
    "print(f\"Мера сходства между документом doc_file_path_50_00_2020 и изм. предложением 5: {doc_file_path_50_00_2020.similarity(doc_permuted_sentences_4)}\")"
   ]
  },
  {
   "cell_type": "code",
   "execution_count": null,
   "id": "d2dd3c49-f0f8-407b-918e-c7960107cbe9",
   "metadata": {},
   "outputs": [],
   "source": [
    "vocab_size = len(nlp.vocab)\n",
    "print(vocab_size)"
   ]
  }
 ],
 "metadata": {
  "kernelspec": {
   "display_name": "Ilnur",
   "language": "python",
   "name": "usmanov-il"
  },
  "language_info": {
   "codemirror_mode": {
    "name": "ipython",
    "version": 3
   },
   "file_extension": ".py",
   "mimetype": "text/x-python",
   "name": "python",
   "nbconvert_exporter": "python",
   "pygments_lexer": "ipython3",
   "version": "3.9.7"
  }
 },
 "nbformat": 4,
 "nbformat_minor": 5
}
